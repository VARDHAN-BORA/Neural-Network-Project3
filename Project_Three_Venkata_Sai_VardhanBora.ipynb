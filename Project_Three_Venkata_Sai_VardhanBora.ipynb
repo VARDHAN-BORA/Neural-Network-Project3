{
  "cells": [
    {
      "cell_type": "markdown",
      "metadata": {
        "id": "view-in-github",
        "colab_type": "text"
      },
      "source": [
        "<a href=\"https://colab.research.google.com/github/VARDHAN-BORA/Neural-Network-Project3/blob/main/Project_Three_Venkata_Sai_VardhanBora.ipynb\" target=\"_parent\"><img src=\"https://colab.research.google.com/assets/colab-badge.svg\" alt=\"Open In Colab\"/></a>"
      ]
    },
    {
      "cell_type": "code",
      "execution_count": null,
      "id": "7vXoK8Rx2gpF",
      "metadata": {
        "id": "7vXoK8Rx2gpF"
      },
      "outputs": [],
      "source": [
        "import torch\n",
        "import torch.nn as nn\n",
        "import torch.optim as optim\n",
        "from torch.utils.data import DataLoader, Dataset\n",
        "import torchvision.transforms as T\n",
        "from PIL import Image\n",
        "import os\n",
        "from tqdm import tqdm\n",
        "import matplotlib.pyplot as plt\n",
        "from google.colab import drive"
      ]
    },
    {
      "cell_type": "code",
      "execution_count": null,
      "id": "Oof-6aiyCBl-",
      "metadata": {
        "colab": {
          "base_uri": "https://localhost:8080/"
        },
        "id": "Oof-6aiyCBl-",
        "outputId": "a4d05a6a-a723-4c05-ca3a-cd7080be1315"
      },
      "outputs": [
        {
          "name": "stdout",
          "output_type": "stream",
          "text": [
            "Mounted at /content/drive\n"
          ]
        }
      ],
      "source": [
        "# Mount Google Drive\n",
        "drive.mount('/content/drive')"
      ]
    },
    {
      "cell_type": "markdown",
      "id": "BSq0db583DBW",
      "metadata": {
        "id": "BSq0db583DBW"
      },
      "source": []
    },
    {
      "cell_type": "code",
      "execution_count": null,
      "id": "qMR6BiL53Dkl",
      "metadata": {
        "id": "qMR6BiL53Dkl"
      },
      "outputs": [],
      "source": [
        "class BirdSoundsDataset(Dataset):\n",
        "    def __init__(self, root, transforms=None):\n",
        "        self.root = root\n",
        "        self.transforms = transforms\n",
        "        self.image_paths = sorted([os.path.join(root, 'images', img) for img in os.listdir(os.path.join(root, 'images'))])\n",
        "        self.mask_paths = sorted([os.path.join(root, 'masks', img) for img in os.listdir(os.path.join(root, 'masks'))])\n",
        "\n",
        "    def __len__(self):\n",
        "        return len(self.image_paths)\n",
        "\n",
        "    def __getitem__(self, idx):\n",
        "        image = Image.open(self.image_paths[idx]).convert('RGB')\n",
        "        mask = Image.open(self.mask_paths[idx]).convert('L')\n",
        "        if self.transforms:\n",
        "            image = self.transforms(image)\n",
        "            mask = self.transforms(mask)\n",
        "        return image, mask\n",
        "\n",
        "# Data transformations\n",
        "transform = T.Compose([\n",
        "    T.Resize((256, 256)),\n",
        "    T.ToTensor(),\n",
        "])"
      ]
    },
    {
      "cell_type": "code",
      "execution_count": null,
      "id": "-U4jeadi3I3M",
      "metadata": {
        "colab": {
          "base_uri": "https://localhost:8080/"
        },
        "id": "-U4jeadi3I3M",
        "outputId": "2b492cb4-132b-421f-908b-220e7ee9d1fc"
      },
      "outputs": [
        {
          "name": "stdout",
          "output_type": "stream",
          "text": [
            "Drive already mounted at /content/drive; to attempt to forcibly remount, call drive.mount(\"/content/drive\", force_remount=True).\n"
          ]
        }
      ],
      "source": [
        "from google.colab import drive\n",
        "drive.mount('/content/drive')\n",
        "\n",
        "transform = T.Compose([\n",
        "    T.Resize((256, 256)),\n",
        "    T.ToTensor(),\n",
        "])\n",
        "\n",
        "train_dataset = BirdSoundsDataset(root='/content/drive/My Drive/bird sounds/train', transforms=transform)\n",
        "train_loader = DataLoader(train_dataset, batch_size=8, shuffle=True)\n",
        "\n",
        "val_dataset = BirdSoundsDataset(root='/content/drive/My Drive/bird sounds/valid', transforms=transform)\n",
        "val_loader = DataLoader(val_dataset, batch_size=8, shuffle=False)\n",
        "\n",
        "test_dataset = BirdSoundsDataset(root='/content/drive/My Drive/bird sounds/test', transforms=transform)\n",
        "test_loader = DataLoader(test_dataset, batch_size=8, shuffle=False)\n"
      ]
    },
    {
      "cell_type": "markdown",
      "id": "009e8fc2",
      "metadata": {
        "id": "009e8fc2"
      },
      "source": [
        "# 1. Build an image segmentation model using pytorch"
      ]
    },
    {
      "cell_type": "markdown",
      "id": "Uu55fH_G2U-j",
      "metadata": {
        "id": "Uu55fH_G2U-j"
      },
      "source": []
    },
    {
      "cell_type": "code",
      "execution_count": null,
      "id": "fRKXfDcZujQk",
      "metadata": {
        "id": "fRKXfDcZujQk"
      },
      "outputs": [],
      "source": [
        "class UNet(nn.Module):\n",
        "    def __init__(self):\n",
        "        super(UNet, self).__init__()\n",
        "        self.encoder1 = self.conv_block(3, 64)\n",
        "        self.encoder2 = self.conv_block(64, 128)\n",
        "        self.encoder3 = self.conv_block(128, 256)\n",
        "        self.encoder4 = self.conv_block(256, 512)\n",
        "\n",
        "        self.pool = nn.MaxPool2d(2)\n",
        "\n",
        "        self.upconv4 = self.upconv_block(512, 256)\n",
        "        self.upconv3 = self.upconv_block(512, 128)  # 256 + 256 (skip connection)\n",
        "        self.upconv2 = self.upconv_block(256, 64)   # 128 + 128 (skip connection)\n",
        "        self.upconv1 = self.upconv_block(128, 64)   # 64 + 64 (skip connection)\n",
        "\n",
        "        self.final_conv = nn.Conv2d(64, 1, kernel_size=1)\n",
        "\n",
        "    def conv_block(self, in_channels, out_channels):\n",
        "        return nn.Sequential(\n",
        "            nn.Conv2d(in_channels, out_channels, kernel_size=3, padding=1),\n",
        "            nn.ReLU(inplace=True),\n",
        "            nn.Conv2d(out_channels, out_channels, kernel_size=3, padding=1),\n",
        "            nn.ReLU(inplace=True)\n",
        "        )\n",
        "\n",
        "    def upconv_block(self, in_channels, out_channels):\n",
        "        return nn.Sequential(\n",
        "            nn.ConvTranspose2d(in_channels, out_channels, kernel_size=2, stride=2),\n",
        "            nn.ReLU(inplace=True)\n",
        "        )\n",
        "\n",
        "    def forward(self, x):\n",
        "        # Encoding path\n",
        "        enc1 = self.encoder1(x)\n",
        "        enc2 = self.encoder2(self.pool(enc1))\n",
        "        enc3 = self.encoder3(self.pool(enc2))\n",
        "        enc4 = self.encoder4(self.pool(enc3))\n",
        "\n",
        "        # Decoding path\n",
        "        dec4 = self.upconv4(enc4)\n",
        "        dec4 = torch.cat((dec4, nn.functional.interpolate(enc3, size=dec4.shape[2:], mode='bilinear', align_corners=False)), dim=1)\n",
        "        dec3 = self.upconv3(dec4)\n",
        "        dec3 = torch.cat((dec3, nn.functional.interpolate(enc2, size=dec3.shape[2:], mode='bilinear', align_corners=False)), dim=1)\n",
        "        dec2 = self.upconv2(dec3)\n",
        "        dec2 = torch.cat((dec2, nn.functional.interpolate(enc1, size=dec2.shape[2:], mode='bilinear', align_corners=False)), dim=1)\n",
        "        dec1 = self.upconv1(dec2)\n",
        "\n",
        "        output = self.final_conv(dec1)\n",
        "        return torch.sigmoid(output)"
      ]
    },
    {
      "cell_type": "markdown",
      "id": "a0c45b84",
      "metadata": {
        "id": "a0c45b84"
      },
      "source": [
        "# 2. Train your model using [Bird sound datasets](https://yuad-my.sharepoint.com/personal/youshan_zhang_yu_edu/_layouts/15/onedrive.aspx?id=%2Fpersonal%2Fyoushan%5Fzhang%5Fyu%5Fedu%2FDocuments%2FBird%5FSound%5FDataset&ga=1)"
      ]
    },
    {
      "cell_type": "code",
      "execution_count": null,
      "id": "50effdac",
      "metadata": {
        "colab": {
          "base_uri": "https://localhost:8080/",
          "height": 1000
        },
        "id": "50effdac",
        "outputId": "d9b66309-3236-4732-e118-b29cf66edb30"
      },
      "outputs": [
        {
          "name": "stderr",
          "output_type": "stream",
          "text": [
            "Training Epoch 1/20: 100%|██████████| 125/125 [12:27<00:00,  5.98s/it, Loss=0.127]\n",
            "Validation Epoch 1/20: 100%|██████████| 25/25 [04:49<00:00, 11.59s/it, Loss=0.122]\n"
          ]
        },
        {
          "name": "stdout",
          "output_type": "stream",
          "text": [
            "Epoch 1/20, Train Loss: 0.2142, Val Loss: 0.1230\n",
            "Saved Best Model with Val Loss: 0.1230\n"
          ]
        },
        {
          "name": "stderr",
          "output_type": "stream",
          "text": [
            "Training Epoch 2/20: 100%|██████████| 125/125 [01:24<00:00,  1.49it/s, Loss=0.101]\n",
            "Validation Epoch 2/20: 100%|██████████| 25/25 [00:16<00:00,  1.56it/s, Loss=0.0738]\n"
          ]
        },
        {
          "name": "stdout",
          "output_type": "stream",
          "text": [
            "Epoch 2/20, Train Loss: 0.1200, Val Loss: 0.0914\n",
            "Saved Best Model with Val Loss: 0.0914\n"
          ]
        },
        {
          "name": "stderr",
          "output_type": "stream",
          "text": [
            "Training Epoch 3/20: 100%|██████████| 125/125 [01:23<00:00,  1.49it/s, Loss=0.0975]\n",
            "Validation Epoch 3/20: 100%|██████████| 25/25 [00:16<00:00,  1.55it/s, Loss=0.0674]\n"
          ]
        },
        {
          "name": "stdout",
          "output_type": "stream",
          "text": [
            "Epoch 3/20, Train Loss: 0.1018, Val Loss: 0.0862\n",
            "Saved Best Model with Val Loss: 0.0862\n"
          ]
        },
        {
          "name": "stderr",
          "output_type": "stream",
          "text": [
            "Training Epoch 4/20: 100%|██████████| 125/125 [01:22<00:00,  1.51it/s, Loss=0.101]\n",
            "Validation Epoch 4/20: 100%|██████████| 25/25 [00:16<00:00,  1.54it/s, Loss=0.0724]\n"
          ]
        },
        {
          "name": "stdout",
          "output_type": "stream",
          "text": [
            "Epoch 4/20, Train Loss: 0.0943, Val Loss: 0.0875\n"
          ]
        },
        {
          "name": "stderr",
          "output_type": "stream",
          "text": [
            "Training Epoch 5/20: 100%|██████████| 125/125 [01:24<00:00,  1.48it/s, Loss=0.0563]\n",
            "Validation Epoch 5/20: 100%|██████████| 25/25 [00:16<00:00,  1.54it/s, Loss=0.0597]\n"
          ]
        },
        {
          "name": "stdout",
          "output_type": "stream",
          "text": [
            "Epoch 5/20, Train Loss: 0.0882, Val Loss: 0.0808\n",
            "Saved Best Model with Val Loss: 0.0808\n"
          ]
        },
        {
          "name": "stderr",
          "output_type": "stream",
          "text": [
            "Training Epoch 6/20: 100%|██████████| 125/125 [01:22<00:00,  1.51it/s, Loss=0.0906]\n",
            "Validation Epoch 6/20: 100%|██████████| 25/25 [00:15<00:00,  1.57it/s, Loss=0.057]\n"
          ]
        },
        {
          "name": "stdout",
          "output_type": "stream",
          "text": [
            "Epoch 6/20, Train Loss: 0.0824, Val Loss: 0.0742\n",
            "Saved Best Model with Val Loss: 0.0742\n"
          ]
        },
        {
          "name": "stderr",
          "output_type": "stream",
          "text": [
            "Training Epoch 7/20: 100%|██████████| 125/125 [01:24<00:00,  1.48it/s, Loss=0.0319]\n",
            "Validation Epoch 7/20: 100%|██████████| 25/25 [00:15<00:00,  1.57it/s, Loss=0.0522]\n"
          ]
        },
        {
          "name": "stdout",
          "output_type": "stream",
          "text": [
            "Epoch 7/20, Train Loss: 0.0812, Val Loss: 0.0719\n",
            "Saved Best Model with Val Loss: 0.0719\n"
          ]
        },
        {
          "name": "stderr",
          "output_type": "stream",
          "text": [
            "Training Epoch 8/20: 100%|██████████| 125/125 [01:21<00:00,  1.54it/s, Loss=0.0434]\n",
            "Validation Epoch 8/20: 100%|██████████| 25/25 [00:15<00:00,  1.59it/s, Loss=0.0529]\n"
          ]
        },
        {
          "name": "stdout",
          "output_type": "stream",
          "text": [
            "Epoch 8/20, Train Loss: 0.0775, Val Loss: 0.0740\n"
          ]
        },
        {
          "name": "stderr",
          "output_type": "stream",
          "text": [
            "Training Epoch 9/20: 100%|██████████| 125/125 [01:23<00:00,  1.49it/s, Loss=0.053]\n",
            "Validation Epoch 9/20: 100%|██████████| 25/25 [00:15<00:00,  1.57it/s, Loss=0.0519]\n"
          ]
        },
        {
          "name": "stdout",
          "output_type": "stream",
          "text": [
            "Epoch 9/20, Train Loss: 0.0778, Val Loss: 0.0702\n",
            "Saved Best Model with Val Loss: 0.0702\n"
          ]
        },
        {
          "name": "stderr",
          "output_type": "stream",
          "text": [
            "Training Epoch 10/20: 100%|██████████| 125/125 [01:23<00:00,  1.49it/s, Loss=0.104]\n",
            "Validation Epoch 10/20: 100%|██████████| 25/25 [00:16<00:00,  1.54it/s, Loss=0.0549]\n"
          ]
        },
        {
          "name": "stdout",
          "output_type": "stream",
          "text": [
            "Epoch 10/20, Train Loss: 0.0763, Val Loss: 0.0767\n"
          ]
        },
        {
          "name": "stderr",
          "output_type": "stream",
          "text": [
            "Training Epoch 11/20: 100%|██████████| 125/125 [01:22<00:00,  1.51it/s, Loss=0.0834]\n",
            "Validation Epoch 11/20: 100%|██████████| 25/25 [00:16<00:00,  1.54it/s, Loss=0.0504]\n"
          ]
        },
        {
          "name": "stdout",
          "output_type": "stream",
          "text": [
            "Epoch 11/20, Train Loss: 0.0739, Val Loss: 0.0707\n"
          ]
        },
        {
          "name": "stderr",
          "output_type": "stream",
          "text": [
            "Training Epoch 12/20: 100%|██████████| 125/125 [01:23<00:00,  1.50it/s, Loss=0.0734]\n",
            "Validation Epoch 12/20: 100%|██████████| 25/25 [00:16<00:00,  1.54it/s, Loss=0.0517]\n"
          ]
        },
        {
          "name": "stdout",
          "output_type": "stream",
          "text": [
            "Epoch 12/20, Train Loss: 0.0723, Val Loss: 0.0725\n"
          ]
        },
        {
          "name": "stderr",
          "output_type": "stream",
          "text": [
            "Training Epoch 13/20: 100%|██████████| 125/125 [01:24<00:00,  1.48it/s, Loss=0.0852]\n",
            "Validation Epoch 13/20: 100%|██████████| 25/25 [00:15<00:00,  1.60it/s, Loss=0.0514]\n"
          ]
        },
        {
          "name": "stdout",
          "output_type": "stream",
          "text": [
            "Epoch 13/20, Train Loss: 0.0727, Val Loss: 0.0693\n",
            "Saved Best Model with Val Loss: 0.0693\n"
          ]
        },
        {
          "name": "stderr",
          "output_type": "stream",
          "text": [
            "Training Epoch 14/20: 100%|██████████| 125/125 [01:24<00:00,  1.49it/s, Loss=0.075]\n",
            "Validation Epoch 14/20: 100%|██████████| 25/25 [00:16<00:00,  1.53it/s, Loss=0.0473]\n"
          ]
        },
        {
          "name": "stdout",
          "output_type": "stream",
          "text": [
            "Epoch 14/20, Train Loss: 0.0723, Val Loss: 0.0681\n",
            "Saved Best Model with Val Loss: 0.0681\n"
          ]
        },
        {
          "name": "stderr",
          "output_type": "stream",
          "text": [
            "Training Epoch 15/20: 100%|██████████| 125/125 [01:21<00:00,  1.53it/s, Loss=0.0702]\n",
            "Validation Epoch 15/20: 100%|██████████| 25/25 [00:15<00:00,  1.57it/s, Loss=0.0507]\n"
          ]
        },
        {
          "name": "stdout",
          "output_type": "stream",
          "text": [
            "Epoch 15/20, Train Loss: 0.0690, Val Loss: 0.0703\n"
          ]
        },
        {
          "name": "stderr",
          "output_type": "stream",
          "text": [
            "Training Epoch 16/20: 100%|██████████| 125/125 [01:24<00:00,  1.48it/s, Loss=0.0542]\n",
            "Validation Epoch 16/20: 100%|██████████| 25/25 [00:16<00:00,  1.56it/s, Loss=0.047]\n"
          ]
        },
        {
          "name": "stdout",
          "output_type": "stream",
          "text": [
            "Epoch 16/20, Train Loss: 0.0691, Val Loss: 0.0676\n",
            "Saved Best Model with Val Loss: 0.0676\n"
          ]
        },
        {
          "name": "stderr",
          "output_type": "stream",
          "text": [
            "Training Epoch 17/20: 100%|██████████| 125/125 [01:23<00:00,  1.49it/s, Loss=0.0829]\n",
            "Validation Epoch 17/20: 100%|██████████| 25/25 [00:15<00:00,  1.58it/s, Loss=0.0457]\n"
          ]
        },
        {
          "name": "stdout",
          "output_type": "stream",
          "text": [
            "Epoch 17/20, Train Loss: 0.0682, Val Loss: 0.0668\n",
            "Saved Best Model with Val Loss: 0.0668\n"
          ]
        },
        {
          "name": "stderr",
          "output_type": "stream",
          "text": [
            "Training Epoch 18/20: 100%|██████████| 125/125 [01:23<00:00,  1.50it/s, Loss=0.0729]\n",
            "Validation Epoch 18/20: 100%|██████████| 25/25 [00:16<00:00,  1.55it/s, Loss=0.0548]\n"
          ]
        },
        {
          "name": "stdout",
          "output_type": "stream",
          "text": [
            "Epoch 18/20, Train Loss: 0.0662, Val Loss: 0.0770\n"
          ]
        },
        {
          "name": "stderr",
          "output_type": "stream",
          "text": [
            "Training Epoch 19/20: 100%|██████████| 125/125 [01:23<00:00,  1.50it/s, Loss=0.0658]\n",
            "Validation Epoch 19/20: 100%|██████████| 25/25 [00:16<00:00,  1.56it/s, Loss=0.0499]\n"
          ]
        },
        {
          "name": "stdout",
          "output_type": "stream",
          "text": [
            "Epoch 19/20, Train Loss: 0.0679, Val Loss: 0.0705\n"
          ]
        },
        {
          "name": "stderr",
          "output_type": "stream",
          "text": [
            "Training Epoch 20/20: 100%|██████████| 125/125 [01:24<00:00,  1.48it/s, Loss=0.0324]\n",
            "Validation Epoch 20/20: 100%|██████████| 25/25 [00:15<00:00,  1.60it/s, Loss=0.0469]\n"
          ]
        },
        {
          "name": "stdout",
          "output_type": "stream",
          "text": [
            "Epoch 20/20, Train Loss: 0.0661, Val Loss: 0.0703\n"
          ]
        },
        {
          "data": {
            "image/png": "[encoded data removed]",
            "text/plain": [
              "<Figure size 1000x500 with 1 Axes>"
            ]
          },
          "metadata": {},
          "output_type": "display_data"
        }
      ],
      "source": [
        "device = torch.device('cuda' if torch.cuda.is_available() else 'cpu')\n",
        "\n",
        "# Initialize model, criterion, and optimizer\n",
        "model = UNet().to(device)\n",
        "criterion = nn.BCELoss()\n",
        "optimizer = optim.Adam(model.parameters(), lr=0.001)\n",
        "\n",
        "num_epochs = 20\n",
        "best_val_loss = float('inf')\n",
        "\n",
        "train_losses = []\n",
        "val_losses = []\n",
        "\n",
        "# Training loop\n",
        "for epoch in range(num_epochs):\n",
        "    model.train()\n",
        "    running_loss = 0.0\n",
        "\n",
        "    train_pbar = tqdm(enumerate(train_loader), total=len(train_loader), desc=f'Training Epoch {epoch+1}/{num_epochs}')\n",
        "    for batch_idx, (images, masks) in train_pbar:\n",
        "        images, masks = images.to(device), masks.to(device)\n",
        "\n",
        "        optimizer.zero_grad()\n",
        "        outputs = model(images)\n",
        "\n",
        "        # Resize masks to match the output size\n",
        "        masks = nn.functional.interpolate(masks, size=outputs.shape[2:], mode='nearest')\n",
        "\n",
        "        loss = criterion(outputs, masks)\n",
        "        loss.backward()\n",
        "        optimizer.step()\n",
        "\n",
        "        running_loss += loss.item() * images.size(0)\n",
        "        train_pbar.set_postfix({'Loss': loss.item()})\n",
        "\n",
        "    epoch_loss = running_loss / len(train_loader.dataset)\n",
        "    train_losses.append(epoch_loss)\n",
        "\n",
        "    model.eval()\n",
        "    val_loss = 0.0\n",
        "    val_pbar = tqdm(enumerate(val_loader), total=len(val_loader), desc=f'Validation Epoch {epoch+1}/{num_epochs}')\n",
        "    with torch.no_grad():\n",
        "        for batch_idx, (images, masks) in val_pbar:\n",
        "            images, masks = images.to(device), masks.to(device)\n",
        "            outputs = model(images)\n",
        "\n",
        "            # Resize masks to match the output size\n",
        "            masks = nn.functional.interpolate(masks, size=outputs.shape[2:], mode='nearest')\n",
        "\n",
        "            loss = criterion(outputs, masks)\n",
        "            val_loss += loss.item() * images.size(0)\n",
        "            val_pbar.set_postfix({'Loss': loss.item()})\n",
        "\n",
        "    val_loss /= len(val_loader.dataset)\n",
        "    val_losses.append(val_loss)\n",
        "\n",
        "    print(f'Epoch {epoch+1}/{num_epochs}, Train Loss: {epoch_loss:.4f}, Val Loss: {val_loss:.4f}')\n",
        "\n",
        "    if val_loss < best_val_loss:  # Save the model if validation loss decreases\n",
        "        best_val_loss = val_loss\n",
        "        model_save_path = '/content/drive/My Drive/bird sounds/best_model.pth'\n",
        "        torch.save(model.state_dict(), model_save_path)\n",
        "        print(f'Saved Best Model with Val Loss: {best_val_loss:.4f}')\n",
        "\n",
        "# Plotting the losses\n",
        "epochs = range(1, num_epochs + 1)\n",
        "\n",
        "plt.figure(figsize=(10, 5))\n",
        "plt.plot(epochs, train_losses, 'b', label='Training Loss')\n",
        "plt.plot(epochs, val_losses, 'r', label='Validation Loss')\n",
        "plt.title('Training and Validation Loss')\n",
        "plt.xlabel('Epochs')\n",
        "plt.ylabel('Loss')\n",
        "plt.legend()\n",
        "plt.show()"
      ]
    },
    {
      "cell_type": "code",
      "execution_count": null,
      "id": "AW7j55NnAMcJ",
      "metadata": {
        "id": "AW7j55NnAMcJ"
      },
      "outputs": [],
      "source": []
    },
    {
      "cell_type": "markdown",
      "id": "7f63262f",
      "metadata": {
        "id": "7f63262f"
      },
      "source": [
        "# 3.Evaluate your model using the test images"
      ]
    },
    {
      "cell_type": "code",
      "execution_count": null,
      "id": "izkr_zddPpFe",
      "metadata": {
        "colab": {
          "base_uri": "https://localhost:8080/"
        },
        "id": "izkr_zddPpFe",
        "outputId": "e1844329-f2be-46fc-df47-634b3a25e456"
      },
      "outputs": [
        {
          "name": "stderr",
          "output_type": "stream",
          "text": [
            "Testing: 100%|██████████| 38/38 [00:23<00:00,  1.61it/s, IoU=0.514]"
          ]
        },
        {
          "name": "stdout",
          "output_type": "stream",
          "text": [
            "Test IoU: 0.6320\n"
          ]
        },
        {
          "name": "stderr",
          "output_type": "stream",
          "text": [
            "\n"
          ]
        }
      ],
      "source": [
        "# Define the IoU metric\n",
        "def calculate_iou(pred_mask, true_mask, threshold=0.5):\n",
        "    pred_mask = (pred_mask > threshold).float()\n",
        "    true_mask = (true_mask > threshold).float()\n",
        "    intersection = (pred_mask * true_mask).sum(dim=(1, 2, 3))\n",
        "    union = pred_mask.sum(dim=(1, 2, 3)) + true_mask.sum(dim=(1, 2, 3)) - intersection\n",
        "    iou = intersection / (union + 1e-6)\n",
        "    return iou.mean().item()\n",
        "\n",
        "# Data transformations\n",
        "transform = T.Compose([\n",
        "    T.Resize((256, 256)),\n",
        "    T.ToTensor(),\n",
        "])\n",
        "\n",
        "# Device configuration\n",
        "device = torch.device('cuda' if torch.cuda.is_available() else 'cpu')\n",
        "\n",
        "# Path to the saved model\n",
        "model_path = '/content/drive/My Drive/bird sounds/best_model.pth'\n",
        "\n",
        "# Load the test dataset and dataloader\n",
        "test_dataset = BirdSoundsDataset(root='/content/drive/My Drive/bird sounds/test', transforms=transform)\n",
        "test_loader = DataLoader(test_dataset, batch_size=8, shuffle=False)\n",
        "\n",
        "# Load the best saved model\n",
        "model = UNet().to(device)\n",
        "if os.path.exists(model_path):\n",
        "    model.load_state_dict(torch.load(model_path))\n",
        "    model.eval()\n",
        "\n",
        "    # Evaluate the model on the test data\n",
        "    test_iou = 0.0\n",
        "    num_samples = 0\n",
        "\n",
        "    with torch.no_grad():\n",
        "        test_pbar = tqdm(enumerate(test_loader), total=len(test_loader), desc='Testing')\n",
        "        for batch_idx, (images, masks) in test_pbar:\n",
        "            images, masks = images.to(device), masks.to(device)\n",
        "            outputs = model(images)\n",
        "\n",
        "            # Resize masks to match the output size\n",
        "            masks = nn.functional.interpolate(masks, size=outputs.shape[2:], mode='nearest')\n",
        "\n",
        "            iou = calculate_iou(outputs, masks)\n",
        "            test_iou += iou * images.size(0)\n",
        "            num_samples += images.size(0)\n",
        "\n",
        "            test_pbar.set_postfix({'IoU': iou})\n",
        "\n",
        "    # Calculate average IoU over the test set\n",
        "    test_iou /= num_samples\n",
        "\n",
        "    print(f'Test IoU: {test_iou:.4f}')\n",
        "else:\n",
        "    print(\"Model file not found. Please check the path.\")"
      ]
    },
    {
      "cell_type": "markdown",
      "id": "1b5846bc",
      "metadata": {
        "id": "1b5846bc"
      },
      "source": [
        "# 4. Your IoU score should be higher than 60"
      ]
    },
    {
      "cell_type": "markdown",
      "id": "vK76hYCxP_0D",
      "metadata": {
        "id": "vK76hYCxP_0D"
      },
      "source": [
        "The printed test IoU score is 0.6320, which is 63.20%. This confirms that model's performance on the test dataset meets the threshold Needed."
      ]
    },
    {
      "cell_type": "markdown",
      "id": "62f12835",
      "metadata": {
        "id": "62f12835"
      },
      "source": [
        "# 5. Write a 3-page report using LaTex and upload your paper to ResearchGate or Arxiv, and put your paper link here.\n"
      ]
    },
    {
      "cell_type": "markdown",
      "id": "47255a39",
      "metadata": {
        "id": "47255a39"
      },
      "source": [
        "https://www.researchgate.net/publication/382943380_Image_Segmentation_Using_UNet"
      ]
    },
    {
      "cell_type": "markdown",
      "id": "ab6ac291",
      "metadata": {
        "id": "ab6ac291"
      },
      "source": [
        "# 6. Grading rubric\n",
        "\n",
        "(1). Code ------- 20 points (you also need to upload your final model as a pt file, and add paper link)\n",
        "\n",
        "(2). Grammer ---- 20 points\n",
        "\n",
        "(3). Introduction & related work --- 10 points\n",
        "\n",
        "(4). Method  ---- 20 points\n",
        "\n",
        "(5). Results ---- 20 points\n",
        "\n",
        "     > = 0.85 -->10 points\n",
        "     < 0.8  --> 0 points\n",
        "     >= 0.8 & < 0.85  --> 2 point/0.01 higher\n",
        "     \n",
        "\n",
        "(6). Discussion - 10 points"
      ]
    },
    {
      "cell_type": "code",
      "execution_count": null,
      "id": "5299ea7e",
      "metadata": {
        "id": "5299ea7e"
      },
      "outputs": [],
      "source": []
    }
  ],
  "metadata": {
    "accelerator": "GPU",
    "colab": {
      "gpuType": "A100",
      "machine_shape": "hm",
      "provenance": [],
      "include_colab_link": true
    },
    "kernelspec": {
      "display_name": "Python 3 (ipykernel)",
      "language": "python",
      "name": "python3"
    },
    "language_info": {
      "codemirror_mode": {
        "name": "ipython",
        "version": 3
      },
      "file_extension": ".py",
      "mimetype": "text/x-python",
      "name": "python",
      "nbconvert_exporter": "python",
      "pygments_lexer": "ipython3",
      "version": "3.11.5"
    }
  },
  "nbformat": 4,
  "nbformat_minor": 5
}